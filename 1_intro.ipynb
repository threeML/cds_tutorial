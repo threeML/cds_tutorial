{
 "cells": [
  {
   "cell_type": "markdown",
   "metadata": {},
   "source": [
    "<div  >\n",
    "<img src=\"https://raw.githubusercontent.com/threeML/astromodels/master/docs/media/transp_logo.png\" alt=\"drawing\" width=\"300\" align=\"right\"/>\n",
    " \n",
    "\n",
    "\n",
    "<div  >\n",
    "<img src=\"https://raw.githubusercontent.com/threeML/threeML/master/logo/logo_sq.png\" alt=\"drawing\" width=\"300\" align=\"right\"/>\n",
    "\n",
    "\n",
    "\n",
    "# Introduction to basic concepts\n",
    "    \n",
    "3ML and astromodels provide a toolbox that allow you to build arbitrailiy complex models and fit them to astrophyical observation. \n",
    "    \n",
    "The three concepts that are key to getting started are:\n",
    "* building a `model` with astromodels\n",
    "* creating a `plugin` from data\n",
    "* performing a `fit`\n",
    "* manipulating the `AnalysisResults` produced from your fit\n",
    "    \n",
    "We will first focus on a simple example with toy data from a generic plugin\n",
    " \n"
   ]
  },
  {
   "cell_type": "markdown",
   "metadata": {
    "heading_collapsed": true
   },
   "source": [
    "## Building a plugin\n",
    "\n",
    "3ML comes with many plugins for various instruments and data classes. It is even possible to construct your own! To begin with, we will be using the `XYLike` plugin which is a simple plugin for so-called point-like data. This is data that is either Poisson or Gaussian distributed where the measured (Y) value is taken exactly at the measurement (X) point. "
   ]
  },
  {
   "cell_type": "code",
   "execution_count": null,
   "metadata": {
    "hidden": true
   },
   "outputs": [],
   "source": [
    "from threeML import *\n",
    "import numpy as np\n",
    "import matplotlib.pyplot as plt\n",
    "import astropy.units as u\n",
    "\n",
    "%matplotlib notebook\n",
    "from jupyterthemes import jtplot\n",
    "jtplot.style(context='notebook', fscale=1, ticks=True, grid=False)\n",
    "\n",
    "# Get some example data\n",
    "from threeML.io.package_data import get_path_of_data_file\n",
    "\n"
   ]
  },
  {
   "cell_type": "markdown",
   "metadata": {
    "hidden": true
   },
   "source": [
    "Let's get some example data that is included with 3ML"
   ]
  },
  {
   "cell_type": "code",
   "execution_count": null,
   "metadata": {
    "hidden": true
   },
   "outputs": [],
   "source": [
    "data_path = get_path_of_data_file(\"datasets/xy_powerlaw.txt\")"
   ]
  },
  {
   "cell_type": "markdown",
   "metadata": {
    "hidden": true
   },
   "source": [
    "The `XYLike` plugin can read certain text files. The data we provide is from a power law with Gaussian distributed errors"
   ]
  },
  {
   "cell_type": "code",
   "execution_count": null,
   "metadata": {
    "hidden": true
   },
   "outputs": [],
   "source": [
    "# Create an instance of the XYLike plugin, which allows to analyze simple x,y points\n",
    "# with error bars\n",
    "xyl = XYLike.from_text_file(\"xyl\", data_path)\n",
    "\n",
    "# Let's plot it just to see what we have loaded\n",
    "fig = xyl.plot(x_scale=\"log\", y_scale=\"log\")"
   ]
  },
  {
   "cell_type": "code",
   "execution_count": null,
   "metadata": {
    "hidden": true
   },
   "outputs": [],
   "source": [
    "xyl.is_poisson"
   ]
  },
  {
   "cell_type": "code",
   "execution_count": null,
   "metadata": {
    "hidden": true
   },
   "outputs": [],
   "source": [
    "xyl.x"
   ]
  },
  {
   "cell_type": "markdown",
   "metadata": {
    "hidden": true
   },
   "source": [
    "Ok, what is a plugin? It is a container for data that connects the data to a model via the plugin's `likelihood`. If we had set a model to the plugin, then we could get the current value of the likelihood given the model's current parameters. But... we do not have a model yet."
   ]
  },
  {
   "cell_type": "markdown",
   "metadata": {
    "heading_collapsed": true
   },
   "source": [
    "## Creating a model\n",
    "\n",
    "3ML handles models via our sister package [astromodels](https://github.com/threeML/astromodels). In this frame work, a model is a tree that contains sources which contain properties like spectra, polarization, spatial shape, etc. Sources can be point sources (GRBs, AGN, alien warp drive signitures) or extended sources (the galactic place, etc). We will not go into extended sources in this tutorial, but you can check out the documentation to examples with [HAWC]().\n",
    "\n",
    "For our data/plugin above, we would be interested in the spectral shape of a point source. It looks very much like a power law... so lets try this.\n",
    "\n",
    "First we will instance a spectral shape\n",
    "\n"
   ]
  },
  {
   "cell_type": "code",
   "execution_count": null,
   "metadata": {
    "hidden": true
   },
   "outputs": [],
   "source": [
    "plaw = Powerlaw()\n",
    "plaw"
   ]
  },
  {
   "cell_type": "markdown",
   "metadata": {
    "hidden": true
   },
   "source": [
    "The values of the parameters are accessed as attributes and the function call produces the Y value"
   ]
  },
  {
   "cell_type": "code",
   "execution_count": null,
   "metadata": {
    "hidden": true
   },
   "outputs": [],
   "source": [
    "plaw.index = 1.\n",
    "plaw.piv = 10.\n",
    "\n",
    "# set bounds simultaneously\n",
    "plaw.index.bounds = (-3, None)\n",
    "plaw.index.max_value = 3\n",
    "\n",
    "# set a lower bound\n",
    "plaw.K.min_value = 1e-10\n",
    "\n",
    "\n",
    "\n",
    "# free or fix a parameter\n",
    "plaw.piv.free = True\n",
    "\n",
    "plaw.piv.fix = True\n",
    "\n"
   ]
  },
  {
   "cell_type": "code",
   "execution_count": null,
   "metadata": {
    "hidden": true
   },
   "outputs": [],
   "source": [
    "fig, ax = plt.subplots()\n",
    "\n",
    "x_grid = np.geomspace(1,100,100)\n",
    "\n",
    "for i in np.linspace(-3,3,20):\n",
    "    \n",
    "    plaw.index = i\n",
    "    \n",
    "    ax.loglog(x_grid, plaw(x_grid))\n",
    "    \n",
    "\n",
    "\n",
    "plaw.piv = 1."
   ]
  },
  {
   "cell_type": "markdown",
   "metadata": {
    "hidden": true
   },
   "source": [
    "There are alot of things you can do with functions, however we do not observe functions. We observe sources. So let's assign this spectral shape to a point source. We will have to give it a name and some dummy coordinates."
   ]
  },
  {
   "cell_type": "code",
   "execution_count": null,
   "metadata": {
    "hidden": true
   },
   "outputs": [],
   "source": [
    "ps = PointSource(\"my_source\", ra=0, dec=0, spectral_shape=plaw)"
   ]
  },
  {
   "cell_type": "code",
   "execution_count": null,
   "metadata": {
    "hidden": true
   },
   "outputs": [],
   "source": [
    "ps.free_parameters"
   ]
  },
  {
   "cell_type": "markdown",
   "metadata": {
    "ExecuteTime": {
     "end_time": "2021-08-17T14:07:39.738092Z",
     "start_time": "2021-08-17T14:07:39.733893Z"
    },
    "hidden": true
   },
   "source": [
    "Notice the tree structure going from the source to the parameter name? This is the structure of astromodels and how you can access various aspects of a model. It can get really complex."
   ]
  },
  {
   "cell_type": "code",
   "execution_count": null,
   "metadata": {
    "hidden": true
   },
   "outputs": [],
   "source": [
    "ps.spectrum.main.Powerlaw.K"
   ]
  },
  {
   "cell_type": "markdown",
   "metadata": {
    "hidden": true
   },
   "source": [
    "Now, for this simple example, we have only one source, we will pass this to our model."
   ]
  },
  {
   "cell_type": "code",
   "execution_count": null,
   "metadata": {
    "hidden": true
   },
   "outputs": [],
   "source": [
    "model = Model(ps)"
   ]
  },
  {
   "cell_type": "code",
   "execution_count": null,
   "metadata": {
    "hidden": true
   },
   "outputs": [],
   "source": [
    "model"
   ]
  },
  {
   "cell_type": "markdown",
   "metadata": {
    "hidden": true
   },
   "source": [
    "Now, we are almost ready to fit. But we can go one step further here and get a feeling for how 3ML works. Normally, this is done for you when you perform an analysis, but we can go ahead and assign this model to our plugin:"
   ]
  },
  {
   "cell_type": "code",
   "execution_count": null,
   "metadata": {
    "hidden": true
   },
   "outputs": [],
   "source": [
    "xyl.set_model(model)"
   ]
  },
  {
   "cell_type": "markdown",
   "metadata": {
    "hidden": true
   },
   "source": [
    "Now we can get our log-likelihood. 3ML knows this is Gaussian data so it uses the proper likelihood... **no you can't change the likelihood to something improper (without some hacking)** because we want your analysis to be correct. "
   ]
  },
  {
   "cell_type": "code",
   "execution_count": null,
   "metadata": {
    "hidden": true
   },
   "outputs": [],
   "source": [
    "xyl.get_log_like()"
   ]
  },
  {
   "cell_type": "markdown",
   "metadata": {
    "hidden": true
   },
   "source": [
    "If we change the parameters in our model, the likelihood will change:"
   ]
  },
  {
   "cell_type": "code",
   "execution_count": null,
   "metadata": {
    "hidden": true
   },
   "outputs": [],
   "source": [
    "plaw.index = -2."
   ]
  },
  {
   "cell_type": "code",
   "execution_count": null,
   "metadata": {
    "hidden": true
   },
   "outputs": [],
   "source": [
    "xyl.get_log_like()"
   ]
  },
  {
   "cell_type": "code",
   "execution_count": null,
   "metadata": {
    "hidden": true
   },
   "outputs": [],
   "source": [
    "model.my_source.spectrum.main.Powerlaw.index=-1"
   ]
  },
  {
   "cell_type": "code",
   "execution_count": null,
   "metadata": {
    "hidden": true
   },
   "outputs": [],
   "source": [
    "xyl.get_log_like()"
   ]
  },
  {
   "cell_type": "markdown",
   "metadata": {
    "hidden": true
   },
   "source": [
    "Notice that the spectrum instance is linked to the model. Whereever you change the values of the parameters, the plugin will take note an update... remember this for when we perform a fit.... the model will be changed!"
   ]
  },
  {
   "cell_type": "markdown",
   "metadata": {
    "heading_collapsed": true
   },
   "source": [
    "## Fitting\n",
    "\n",
    "Now let's do what we have all come here for... fitting data! There are a plethora of ways to perform fits in 3ML regardless of if you are a die-hard frequentist or frustrated Bayesian. Also remember that all of these procedures are the same regardless of the plugin or type of data you use. This will be important when we switch to X-ray data (or gamma-ray, optical, neutrino, etc.).\n"
   ]
  },
  {
   "cell_type": "markdown",
   "metadata": {
    "heading_collapsed": true,
    "hidden": true
   },
   "source": [
    "### Maximum-Likelihood estimation\n",
    "\n",
    "First let's do an MLE fit. By default, 3ML comes preloaded with the `minuit` optimizer. Though, you can install others and use them depeneding on your needs. Check out the [documentation]() for examples.\n",
    "\n",
    "The first thing you need to do in instance a jointlikelihood object. This will automatically set your model to the plugin if you have not done so. Before we do this, we need to create `DataList` which is a container for all the plugins we want to fit (remember we are after multi-messenger analysis). For this case, it is just one plugin:\n"
   ]
  },
  {
   "cell_type": "code",
   "execution_count": null,
   "metadata": {
    "hidden": true
   },
   "outputs": [],
   "source": [
    "dl = DataList(xyl)\n",
    "\n",
    "jl = JointLikelihood(model, dl)"
   ]
  },
  {
   "cell_type": "markdown",
   "metadata": {
    "hidden": true
   },
   "source": [
    "Now we fit!"
   ]
  },
  {
   "cell_type": "code",
   "execution_count": null,
   "metadata": {
    "hidden": true
   },
   "outputs": [],
   "source": [
    "res = jl.fit()"
   ]
  },
  {
   "cell_type": "code",
   "execution_count": null,
   "metadata": {
    "hidden": true
   },
   "outputs": [],
   "source": [
    "minimizer = LocalMinimization('scipy')\n",
    "\n",
    "minimizer.set_algorithm(\"TNC\")\n",
    "\n",
    "jl.set_minimizer(minimizer)"
   ]
  },
  {
   "cell_type": "code",
   "execution_count": null,
   "metadata": {
    "hidden": true
   },
   "outputs": [],
   "source": [
    "jl.minimizer.set_algorithm(\"TNC\")"
   ]
  },
  {
   "cell_type": "code",
   "execution_count": null,
   "metadata": {
    "hidden": true
   },
   "outputs": [],
   "source": [
    "_ = jl.fit()"
   ]
  },
  {
   "cell_type": "code",
   "execution_count": null,
   "metadata": {
    "hidden": true
   },
   "outputs": [],
   "source": []
  },
  {
   "cell_type": "markdown",
   "metadata": {
    "hidden": true
   },
   "source": [
    "Great, we have a fit. Now, we need to write a regex parser for the results so that we can save this for later... \n",
    "\n",
    "Well, hold on. Let's first try a bayesian fit.\n",
    "\n",
    "\n",
    "\n",
    "\n",
    "## Bayesian fit\n",
    "\n",
    "The only difference between a Bayesian fit and an MLE fit is that we need to set priors on our parameters. 3ML comes preloaded with many priors, but you can of course create your own. \n",
    "\n"
   ]
  },
  {
   "cell_type": "code",
   "execution_count": null,
   "metadata": {
    "hidden": true
   },
   "outputs": [],
   "source": [
    "plaw.K.prior = Log_uniform_prior(lower_bound = 1e-3, upper_bound=1e0)\n",
    "\n",
    "# remember uniform priors are bad! \n",
    "plaw.index.prior = Gaussian(mu = -2., sigma=2)\n",
    "\n",
    "# lets remove the bounds on the index\n",
    "# so 3ML does not complain\n",
    "\n",
    "plaw.index.bounds = (None, None)"
   ]
  },
  {
   "cell_type": "markdown",
   "metadata": {
    "hidden": true
   },
   "source": [
    "3ML comes preloaded with emcee as posterior sampler. Hoewever, you can use zeus, multinest, ultranest, etc. All you have to do is set them up according to thier instructions."
   ]
  },
  {
   "cell_type": "code",
   "execution_count": null,
   "metadata": {
    "hidden": true
   },
   "outputs": [],
   "source": [
    "bayes = BayesianAnalysis(model, dl)"
   ]
  },
  {
   "cell_type": "code",
   "execution_count": null,
   "metadata": {
    "hidden": true
   },
   "outputs": [],
   "source": [
    "bayes.set_sampler('emcee')"
   ]
  },
  {
   "cell_type": "code",
   "execution_count": null,
   "metadata": {
    "hidden": true
   },
   "outputs": [],
   "source": [
    "bayes.sampler.setup(n_walkers=50, n_warmup=500, n_iterations=500)"
   ]
  },
  {
   "cell_type": "code",
   "execution_count": null,
   "metadata": {
    "hidden": true
   },
   "outputs": [],
   "source": [
    "res = bayes.sample()\n",
    "\n",
    "xyl.plot(x_scale='log');"
   ]
  },
  {
   "cell_type": "markdown",
   "metadata": {
    "hidden": true
   },
   "source": [
    "let's quickly switch to multinest to see if we get the same answer"
   ]
  },
  {
   "cell_type": "code",
   "execution_count": null,
   "metadata": {
    "hidden": true
   },
   "outputs": [],
   "source": [
    "bayes.set_sampler('multinest')\n",
    "\n",
    "bayes.sampler.setup(n_live_points=500)"
   ]
  },
  {
   "cell_type": "code",
   "execution_count": null,
   "metadata": {
    "hidden": true
   },
   "outputs": [],
   "source": [
    "res = bayes.sample()\n",
    "\n",
    "\n",
    "xyl.plot(x_scale='log');"
   ]
  },
  {
   "cell_type": "markdown",
   "metadata": {
    "heading_collapsed": true
   },
   "source": [
    "## AnalysisResults\n",
    "\n",
    "When we are done with out fit, we want to be able to deal with the results, save them to disk, or even pass them to journal for replication. The `AnalysisResults` object allows us to do this and more. It is important to note that all of these operations are the same for any fit regardless if it is bayesian or MLE.\n",
    "\n",
    "First, let's extract or results from our fit.\n"
   ]
  },
  {
   "cell_type": "code",
   "execution_count": null,
   "metadata": {
    "hidden": true
   },
   "outputs": [],
   "source": [
    "mle_results = jl.results\n",
    "\n",
    "bayes_results = bayes.results"
   ]
  },
  {
   "cell_type": "markdown",
   "metadata": {
    "hidden": true
   },
   "source": [
    "We can quickly look at what the results are (try for both MLE and Bayes)"
   ]
  },
  {
   "cell_type": "code",
   "execution_count": null,
   "metadata": {
    "hidden": true
   },
   "outputs": [],
   "source": [
    "bayes_results.display()"
   ]
  },
  {
   "cell_type": "code",
   "execution_count": null,
   "metadata": {
    "hidden": true
   },
   "outputs": [],
   "source": [
    "bayes_results.corner_plot();"
   ]
  },
  {
   "cell_type": "markdown",
   "metadata": {
    "hidden": true
   },
   "source": [
    "Use the path to a parameter to get it's uncertainies"
   ]
  },
  {
   "cell_type": "code",
   "execution_count": null,
   "metadata": {
    "hidden": true
   },
   "outputs": [],
   "source": [
    "bayes_results.get_equal_tailed_interval('my_source.spectrum.main.Powerlaw.index', cl=0.95)"
   ]
  },
  {
   "cell_type": "code",
   "execution_count": null,
   "metadata": {
    "hidden": true
   },
   "outputs": [],
   "source": [
    "bayes_results.get_highest_density_posterior_interval('my_source.spectrum.main.Powerlaw.index', cl=0.68)"
   ]
  },
  {
   "cell_type": "markdown",
   "metadata": {
    "hidden": true
   },
   "source": [
    "How can we get the point source flux?"
   ]
  },
  {
   "cell_type": "code",
   "execution_count": null,
   "metadata": {
    "hidden": true
   },
   "outputs": [],
   "source": [
    "flux = bayes_results.get_flux(ene_min= 1* u.keV, ene_max=1* u.MeV, confidence_level=0.68)\n",
    "\n",
    "flux"
   ]
  },
  {
   "cell_type": "markdown",
   "metadata": {
    "hidden": true
   },
   "source": [
    "We can plot our fits in model space"
   ]
  },
  {
   "cell_type": "code",
   "execution_count": null,
   "metadata": {
    "hidden": true
   },
   "outputs": [],
   "source": [
    "plot_spectra(bayes_results, flux_unit='erg/s/keV/cm2', confidence_level=0.95);"
   ]
  },
  {
   "cell_type": "markdown",
   "metadata": {
    "hidden": true
   },
   "source": [
    "What if we want to do things with the parameters? We can extract the parameters this way"
   ]
  },
  {
   "cell_type": "code",
   "execution_count": null,
   "metadata": {
    "hidden": true
   },
   "outputs": [],
   "source": [
    "index = bayes_results.get_variates('my_source.spectrum.main.Powerlaw.index')"
   ]
  },
  {
   "cell_type": "code",
   "execution_count": null,
   "metadata": {
    "hidden": true
   },
   "outputs": [],
   "source": [
    "index"
   ]
  },
  {
   "cell_type": "code",
   "execution_count": null,
   "metadata": {
    "hidden": true
   },
   "outputs": [],
   "source": [
    "propgated_index = np.sin(index) + 4"
   ]
  },
  {
   "cell_type": "code",
   "execution_count": null,
   "metadata": {
    "hidden": true
   },
   "outputs": [],
   "source": [
    "propgated_index"
   ]
  },
  {
   "cell_type": "code",
   "execution_count": null,
   "metadata": {
    "hidden": true
   },
   "outputs": [],
   "source": [
    "propgated_index.median"
   ]
  },
  {
   "cell_type": "markdown",
   "metadata": {
    "hidden": true
   },
   "source": [
    "### Saving to disk\n",
    "\n",
    "All of this is great, but sometimes we do have to stop working and close down our computer, or maybe we generated all our fits on an HPC system and we want to compute fluxes later, or change the energy bounds/units on our plots.\n",
    "\n",
    "\n",
    "`AnalysisResults` are serializable to disk. Meaning, we can save ALL the information about our fit to the disk. Let's try:\n"
   ]
  },
  {
   "cell_type": "code",
   "execution_count": null,
   "metadata": {
    "hidden": true
   },
   "outputs": [],
   "source": [
    "bayes_results.write_to(\"my_saved_fit.fits\", overwrite=True) # we can also save to HDF5 if you are into that kind of thing"
   ]
  },
  {
   "cell_type": "code",
   "execution_count": null,
   "metadata": {
    "hidden": true
   },
   "outputs": [],
   "source": [
    "reloaded_fit = load_analysis_results(\"my_saved_fit.fits\")"
   ]
  },
  {
   "cell_type": "code",
   "execution_count": null,
   "metadata": {
    "hidden": true
   },
   "outputs": [],
   "source": [
    "reloaded_fit.display()"
   ]
  },
  {
   "cell_type": "code",
   "execution_count": null,
   "metadata": {
    "hidden": true
   },
   "outputs": [],
   "source": [
    "reloaded_fit.samples"
   ]
  },
  {
   "cell_type": "code",
   "execution_count": null,
   "metadata": {
    "hidden": true
   },
   "outputs": [],
   "source": [
    "reloaded_fit.optimized_model"
   ]
  },
  {
   "cell_type": "markdown",
   "metadata": {
    "heading_collapsed": true
   },
   "source": [
    "# Summary\n",
    "\n",
    "There is a lot more to model building, parameter linking, fitting setup, analysis results, etc that we can go into. But with these basic concepts, you can generically apply an analysis to any plugin or sets of plugins. Let's move on to X-ray data."
   ]
  },
  {
   "cell_type": "code",
   "execution_count": null,
   "metadata": {
    "hidden": true
   },
   "outputs": [],
   "source": []
  },
  {
   "cell_type": "code",
   "execution_count": null,
   "metadata": {
    "hidden": true
   },
   "outputs": [],
   "source": []
  }
 ],
 "metadata": {
  "kernelspec": {
   "display_name": "Python 3",
   "language": "python",
   "name": "python3"
  },
  "language_info": {
   "codemirror_mode": {
    "name": "ipython",
    "version": 3
   },
   "file_extension": ".py",
   "mimetype": "text/x-python",
   "name": "python",
   "nbconvert_exporter": "python",
   "pygments_lexer": "ipython3",
   "version": "3.8.6"
  }
 },
 "nbformat": 4,
 "nbformat_minor": 5
}
