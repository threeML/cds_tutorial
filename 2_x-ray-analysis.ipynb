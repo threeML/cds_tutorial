{
 "cells": [
  {
   "cell_type": "markdown",
   "id": "7ffaebb9",
   "metadata": {},
   "source": [
    "<div  >\n",
    "<img src=\"https://raw.githubusercontent.com/threeML/astromodels/master/docs/media/transp_logo.png\" alt=\"drawing\" width=\"300\" align=\"right\"/>\n",
    " \n",
    "\n",
    "\n",
    "<div  >\n",
    "<img src=\"https://raw.githubusercontent.com/threeML/threeML/master/logo/logo_sq.png\" alt=\"drawing\" width=\"300\" align=\"right\"/>\n",
    "\n",
    "\n",
    "\n",
    "# X-ray Analysis with 3ML\n",
    "    \n",
    "While 3ML can handle a lot of different data/likelihood types a lot of attention was spent on making sure that users familiar with past community standards are able to easily adapt to the 3ML workflow. There are some guides for these users in the [documentation](https://threeml.readthedocs.io/en/stable/xspec_users.html).\n",
    "    \n",
    "X-ray analysis in 3ML is centered around the `OGIPLike` plugin which reads OGIP style PHAI/II, RMF, and ARF files. the OGIPLike plugin is a specialized version of the `DispersionSpectrumLike` plugin which deals with count data that are produced by convolving the model spectrum with the resonse of an instrument that suffers from energy dispersion. Thus, if you have an instrument you are designing and you don't like fits files... inherit from DispersionSpectrumLike and create your own unique plugin for ROOT, HDF5, txt, etc. files. The cool thing is that you can still fit your data along with normal OGIP type data... or any of the other plugins in the 3ML family. 3ML is a toolbox to bring instruments (and people) together. \n",
    "    \n",
    "    \n",
    "Let's explore the OGIPLike plugin\n",
    "\n",
    " \n"
   ]
  },
  {
   "cell_type": "markdown",
   "id": "4af42e28",
   "metadata": {},
   "source": [
    "## The OGIPLike plugin\n",
    "\n",
    "The OGIP plugin reads in standard OGIP files. **It will complain a lot if files are in the correct format!**. For PHAII files with multiple spectra, you can use the familiar `<filename>{<spectrum_number>}` format to specify file names or you can pass a spectrum number as an argument. \n",
    "\n",
    "<img src=\"https://cdn.pixabay.com/photo/2012/11/28/11/16/star-67705_960_720.jpg\" alt=\"drawing\" width=\"400\" align=\"center\"/>\n",
    "\n",
    "\n",
    "In the tutorial, there are some simulated Chandra data. Let's say that these data come from the observation of a a white drawf atmosphere. Let's see what we can do with these data.\n"
   ]
  },
  {
   "cell_type": "code",
   "execution_count": null,
   "id": "3e2dfc7b",
   "metadata": {
    "ExecuteTime": {
     "end_time": "2021-08-24T15:06:50.064403Z",
     "start_time": "2021-08-24T15:06:45.830016Z"
    }
   },
   "outputs": [],
   "source": [
    "from threeML import *\n",
    "# get xspec models\n",
    "from astromodels.xspec import *\n",
    "\n",
    "# this is the basic interface to \n",
    "# logging. see the documentation for more\n",
    "update_logging_level(\"INFO\")\n",
    "silence_warnings()\n",
    "\n",
    "import numpy as np\n",
    "import matplotlib.pyplot as plt\n",
    "import astropy.units as u\n",
    "\n",
    "%matplotlib notebook\n",
    "from jupyterthemes import jtplot\n",
    "jtplot.style(context='notebook', fscale=1, ticks=True, grid=False)\n"
   ]
  },
  {
   "cell_type": "code",
   "execution_count": null,
   "id": "e395ff33",
   "metadata": {
    "ExecuteTime": {
     "end_time": "2021-08-24T15:06:50.335727Z",
     "start_time": "2021-08-24T15:06:50.066685Z"
    }
   },
   "outputs": [],
   "source": [
    "chandra = OGIPLike(name=\"chandra\", \n",
    "                   observation=\"c_data/obs.pha\", \n",
    "                   background=\"c_data/obs_bak.pha\",\n",
    "                   response=\"c_data/acis.rmf\",\n",
    "                   arf_file=\"c_data/acis.arf\",\n",
    "                   spectrum_number=1 )"
   ]
  },
  {
   "cell_type": "markdown",
   "id": "014b93fd",
   "metadata": {},
   "source": [
    "Note that 3ML probed the type of data that were read in. As long as the data files have been appropriately labelled, the plugin will **choose the correct likelihood for you**. While freedom is a great thing, math is not a democracy and thus we follow the rules so that your fits are of the highest scientific rigour. \n",
    "\n",
    "In this case, the total observation and the background observation are Poisson distributed. Thus, the proper likelihood is a Poisson for the total observation conditional on the Poisson likelihood of the background. For now, we will not model the background. Therefore a profile likelihood will be choosen.\n",
    "\n",
    "Let's examine the properties of the plugin.\n"
   ]
  },
  {
   "cell_type": "code",
   "execution_count": null,
   "id": "9f9f00c2",
   "metadata": {
    "ExecuteTime": {
     "end_time": "2021-08-24T15:06:50.344503Z",
     "start_time": "2021-08-24T15:06:50.339040Z"
    }
   },
   "outputs": [],
   "source": [
    "chandra.significance"
   ]
  },
  {
   "cell_type": "code",
   "execution_count": null,
   "id": "facbaa3b",
   "metadata": {
    "ExecuteTime": {
     "end_time": "2021-08-24T15:06:50.351389Z",
     "start_time": "2021-08-24T15:06:50.346807Z"
    }
   },
   "outputs": [],
   "source": [
    "chandra.significance_per_channel"
   ]
  },
  {
   "cell_type": "code",
   "execution_count": null,
   "id": "721698c9",
   "metadata": {
    "ExecuteTime": {
     "end_time": "2021-08-24T15:06:50.543251Z",
     "start_time": "2021-08-24T15:06:50.353414Z"
    }
   },
   "outputs": [],
   "source": [
    "chandra.display_rsp()"
   ]
  },
  {
   "cell_type": "code",
   "execution_count": null,
   "id": "4c809ee8",
   "metadata": {
    "ExecuteTime": {
     "end_time": "2021-08-24T15:06:50.549440Z",
     "start_time": "2021-08-24T15:06:50.545354Z"
    }
   },
   "outputs": [],
   "source": [
    "chandra.exposure"
   ]
  },
  {
   "cell_type": "code",
   "execution_count": null,
   "id": "de6bd8d2",
   "metadata": {
    "ExecuteTime": {
     "end_time": "2021-08-24T15:06:50.685851Z",
     "start_time": "2021-08-24T15:06:50.561473Z"
    }
   },
   "outputs": [],
   "source": [
    "chandra.view_count_spectrum(scale_background=True);"
   ]
  },
  {
   "cell_type": "markdown",
   "id": "5d484741",
   "metadata": {},
   "source": [
    "Now, not all channels are great to use in an analysis. Thus, we can set our selections."
   ]
  },
  {
   "cell_type": "code",
   "execution_count": null,
   "id": "57dae60f",
   "metadata": {
    "ExecuteTime": {
     "end_time": "2021-08-24T15:06:50.742051Z",
     "start_time": "2021-08-24T15:06:50.688136Z"
    }
   },
   "outputs": [],
   "source": [
    "chandra.set_active_measurements?"
   ]
  },
  {
   "cell_type": "code",
   "execution_count": null,
   "id": "932e7e46",
   "metadata": {
    "ExecuteTime": {
     "end_time": "2021-08-24T15:06:50.758651Z",
     "start_time": "2021-08-24T15:06:50.744320Z"
    }
   },
   "outputs": [],
   "source": [
    "chandra.set_active_measurements('0.2-10')"
   ]
  },
  {
   "cell_type": "code",
   "execution_count": null,
   "id": "dcf332fd",
   "metadata": {
    "ExecuteTime": {
     "end_time": "2021-08-24T15:06:50.898283Z",
     "start_time": "2021-08-24T15:06:50.760849Z"
    }
   },
   "outputs": [],
   "source": [
    "chandra.view_count_spectrum();"
   ]
  },
  {
   "cell_type": "markdown",
   "id": "8af9e345",
   "metadata": {},
   "source": [
    "For profile likelihoods to be valid, there must be at least 1 [background count per channel](https://giacomov.github.io/Bias-in-profile-poisson-likelihood/). Let's do that here:"
   ]
  },
  {
   "cell_type": "code",
   "execution_count": null,
   "id": "848230f5",
   "metadata": {
    "ExecuteTime": {
     "end_time": "2021-08-24T15:06:53.456059Z",
     "start_time": "2021-08-24T15:06:50.900582Z"
    }
   },
   "outputs": [],
   "source": [
    "chandra.rebin_on_background(1)\n",
    "#chandra.remove_rebinning()"
   ]
  },
  {
   "cell_type": "code",
   "execution_count": null,
   "id": "ff262036",
   "metadata": {
    "ExecuteTime": {
     "end_time": "2021-08-24T15:06:53.545479Z",
     "start_time": "2021-08-24T15:06:53.458549Z"
    }
   },
   "outputs": [],
   "source": [
    "chandra.view_count_spectrum();"
   ]
  },
  {
   "cell_type": "markdown",
   "id": "b93041ee",
   "metadata": {},
   "source": [
    "## Fitting \n",
    "\n",
    "Ok, we are basically ready to do a fit. But we need a model. Let's make two models, one of a black body and the other a power law. We are going to be Bayesians for now, but remember, there is little difference between the interface for the two approaches."
   ]
  },
  {
   "cell_type": "markdown",
   "id": "855d38b2",
   "metadata": {},
   "source": [
    "### blackbody model\n"
   ]
  },
  {
   "cell_type": "code",
   "execution_count": null,
   "id": "c6ead311",
   "metadata": {
    "ExecuteTime": {
     "end_time": "2021-08-24T15:06:53.554520Z",
     "start_time": "2021-08-24T15:06:53.547651Z"
    }
   },
   "outputs": [],
   "source": [
    "bb = Blackbody()\n",
    "\n",
    "\n",
    "#priors\n",
    "bb.K.prior = Log_uniform_prior(lower_bound = 1e-2, upper_bound = 20)\n",
    "bb.kT.prior = Truncated_gaussian(mu= 1, sigma=2, lower_bound=0, upper_bound=10)\n",
    "\n",
    "\n",
    "# you can also try with the XSPEC blackbody!\n",
    "\n",
    "# bb = XS_bbody()\n",
    "# #priors\n",
    "# bb.norm.prior = Log_uniform_prior(lower_bound = 1e-2, upper_bound = 20)\n",
    "# bb.kt.prior = Truncated_gaussian(mu= 1, sigma=2, lower_bound=0, upper_bound=10)\n",
    "\n",
    "# source\n",
    "ps_bb = PointSource(\"white_drawf_bb\", 0, 0, spectral_shape=bb)\n",
    "\n",
    "# model\n",
    "model_bb = Model(ps_bb)"
   ]
  },
  {
   "cell_type": "code",
   "execution_count": null,
   "id": "cb2813eb",
   "metadata": {},
   "outputs": [],
   "source": []
  },
  {
   "cell_type": "code",
   "execution_count": null,
   "id": "6c71d81c",
   "metadata": {
    "ExecuteTime": {
     "end_time": "2021-08-24T15:07:09.765583Z",
     "start_time": "2021-08-24T15:06:53.556530Z"
    }
   },
   "outputs": [],
   "source": [
    "bayes_bb = BayesianAnalysis(model_bb, DataList(chandra))\n",
    "\n",
    "# let's use ultranest this time\n",
    "bayes_bb.set_sampler(\"ultranest\")\n",
    "\n",
    "bayes_bb.sampler.setup(min_num_live_points=400)\n",
    "\n",
    "_ = bayes_bb.sample()"
   ]
  },
  {
   "cell_type": "code",
   "execution_count": null,
   "id": "7ba16b5c",
   "metadata": {
    "ExecuteTime": {
     "end_time": "2021-08-24T15:07:09.887216Z",
     "start_time": "2021-08-24T15:07:09.767665Z"
    }
   },
   "outputs": [],
   "source": [
    "bayes_bb.results.corner_plot();"
   ]
  },
  {
   "cell_type": "code",
   "execution_count": null,
   "id": "bec506ff",
   "metadata": {
    "ExecuteTime": {
     "end_time": "2021-08-24T15:07:10.481689Z",
     "start_time": "2021-08-24T15:07:09.888903Z"
    }
   },
   "outputs": [],
   "source": [
    "display_spectrum_model_counts(bayes_bb,\n",
    "                              min_rate=50,\n",
    "                              show_background=True);\n",
    "\n"
   ]
  },
  {
   "cell_type": "code",
   "execution_count": null,
   "id": "4f5b00f0",
   "metadata": {
    "ExecuteTime": {
     "end_time": "2021-08-24T15:07:10.489674Z",
     "start_time": "2021-08-24T15:07:10.483585Z"
    }
   },
   "outputs": [],
   "source": [
    "show_configuration('plugins')"
   ]
  },
  {
   "cell_type": "code",
   "execution_count": null,
   "id": "b4d5422e",
   "metadata": {
    "ExecuteTime": {
     "end_time": "2021-08-24T15:07:10.496149Z",
     "start_time": "2021-08-24T15:07:10.491719Z"
    }
   },
   "outputs": [],
   "source": [
    "threeML_config.plugins.ogip.fit_plot.data_color = 'limegreen'\n",
    "threeML_config.plugins.ogip.fit_plot.model_color = '#FF5AFD'"
   ]
  },
  {
   "cell_type": "code",
   "execution_count": null,
   "id": "df2702d0",
   "metadata": {
    "ExecuteTime": {
     "end_time": "2021-08-24T15:07:10.947124Z",
     "start_time": "2021-08-24T15:07:10.498568Z"
    }
   },
   "outputs": [],
   "source": [
    "display_spectrum_model_counts(bayes_bb,\n",
    "                              min_rate=10,\n",
    "                              step=True,\n",
    "                              show_background=True);\n",
    "\n",
    "\n"
   ]
  },
  {
   "cell_type": "markdown",
   "id": "36c39ee7",
   "metadata": {},
   "source": [
    "### power law model"
   ]
  },
  {
   "cell_type": "code",
   "execution_count": null,
   "id": "3ffacd1b",
   "metadata": {
    "ExecuteTime": {
     "end_time": "2021-08-24T15:07:10.956433Z",
     "start_time": "2021-08-24T15:07:10.949261Z"
    }
   },
   "outputs": [],
   "source": [
    "plaw = Powerlaw()\n",
    "\n",
    "plaw.K.prior = Log_uniform_prior(lower_bound = 1e-2, upper_bound = 10) \n",
    "\n",
    "plaw.index.prior = Gaussian(mu=-1, sigma=2)\n",
    "plaw.index.bounds = (None, None)\n",
    "\n",
    "\n",
    "# source\n",
    "ps_pl = PointSource(\"white_drawf_pl\", 0, 0, spectral_shape=plaw)\n",
    "\n",
    "# model\n",
    "model_pl = Model(ps_pl)"
   ]
  },
  {
   "cell_type": "code",
   "execution_count": null,
   "id": "26ec0b2d",
   "metadata": {
    "ExecuteTime": {
     "end_time": "2021-08-24T15:07:24.934267Z",
     "start_time": "2021-08-24T15:07:10.958928Z"
    }
   },
   "outputs": [],
   "source": [
    "bayes_pl = BayesianAnalysis(model_pl, DataList(chandra))\n",
    "\n",
    "# let's use ultranest this time\n",
    "bayes_pl.set_sampler(\"ultranest\")\n",
    "\n",
    "bayes_pl.sampler.setup(min_num_live_points=400)\n",
    "\n",
    "_ = bayes_pl.sample()"
   ]
  },
  {
   "cell_type": "code",
   "execution_count": null,
   "id": "f771cb6d",
   "metadata": {
    "ExecuteTime": {
     "end_time": "2021-08-24T15:07:25.343217Z",
     "start_time": "2021-08-24T15:07:24.936038Z"
    }
   },
   "outputs": [],
   "source": [
    "display_spectrum_model_counts(bayes_pl,\n",
    "                              min_rate=10,\n",
    "                              show_background=True);"
   ]
  },
  {
   "cell_type": "code",
   "execution_count": null,
   "id": "6d750108",
   "metadata": {
    "ExecuteTime": {
     "end_time": "2021-08-24T15:07:27.994561Z",
     "start_time": "2021-08-24T15:07:25.345333Z"
    }
   },
   "outputs": [],
   "source": [
    "plot_spectra(bayes_bb.results, bayes_pl.results,\n",
    "             flux_unit=\"erg/(cm2 s keV)\",\n",
    "             ene_min=1*u.keV, ene_max=10*u.keV);"
   ]
  },
  {
   "cell_type": "markdown",
   "id": "97e2c816",
   "metadata": {
    "ExecuteTime": {
     "end_time": "2021-08-18T14:10:29.722507Z",
     "start_time": "2021-08-18T14:10:29.647068Z"
    }
   },
   "source": [
    "## posterior predictive checks (PPC)\n",
    "\n",
    "Let's use an external package to 3ML (but built with its tools box!) to compute posterior predictive checks. PPCs are model checking tool that integrate over the posterior and likelihood to compute the probability of new data from the observed data. We can compute this via simulating new data from the likelihood for sampled points from our posterior. A more detailed explanation for this can be found [here](https://academic.oup.com/mnras/article/490/1/927/5570608)."
   ]
  },
  {
   "cell_type": "code",
   "execution_count": null,
   "id": "b32870cc",
   "metadata": {
    "ExecuteTime": {
     "end_time": "2021-08-24T15:07:28.076290Z",
     "start_time": "2021-08-24T15:07:27.996902Z"
    }
   },
   "outputs": [],
   "source": [
    "from twopc import compute_ppc"
   ]
  },
  {
   "cell_type": "code",
   "execution_count": null,
   "id": "55dc4f00",
   "metadata": {
    "ExecuteTime": {
     "end_time": "2021-08-24T15:07:57.214592Z",
     "start_time": "2021-08-24T15:07:28.079084Z"
    }
   },
   "outputs": [],
   "source": [
    "ppc_bb = compute_ppc(bayes_bb,\n",
    "                  bayes_bb.results,\n",
    "                  n_sims=500,\n",
    "                  file_name=\"ppc_bb.h5\",\n",
    "                  return_ppc=True, overwrite=True)"
   ]
  },
  {
   "cell_type": "code",
   "execution_count": null,
   "id": "b7241492",
   "metadata": {
    "ExecuteTime": {
     "end_time": "2021-08-24T15:07:57.221333Z",
     "start_time": "2021-08-24T15:07:57.216544Z"
    }
   },
   "outputs": [],
   "source": [
    "xx = ppc_bb.chandra.ppc_counts[0] - ppc_bb.chandra.scale_factor* ppc_bb.chandra.ppc_background[0]"
   ]
  },
  {
   "cell_type": "code",
   "execution_count": null,
   "id": "a683d804",
   "metadata": {},
   "outputs": [],
   "source": []
  },
  {
   "cell_type": "code",
   "execution_count": null,
   "id": "bb319d79",
   "metadata": {
    "ExecuteTime": {
     "end_time": "2021-08-24T15:08:00.078395Z",
     "start_time": "2021-08-24T15:07:57.230726Z"
    }
   },
   "outputs": [],
   "source": [
    "ppc_bb.chandra.plot(bkg_subtract=True);"
   ]
  },
  {
   "cell_type": "code",
   "execution_count": null,
   "id": "61cf3889",
   "metadata": {
    "ExecuteTime": {
     "end_time": "2021-08-24T15:08:00.203275Z",
     "start_time": "2021-08-24T15:08:00.084189Z"
    }
   },
   "outputs": [],
   "source": [
    "ppc_bb.chandra.plot_qq(channel_energies=None);"
   ]
  },
  {
   "cell_type": "code",
   "execution_count": null,
   "id": "229c9a13",
   "metadata": {
    "ExecuteTime": {
     "end_time": "2021-08-24T15:08:30.285034Z",
     "start_time": "2021-08-24T15:08:00.205986Z"
    }
   },
   "outputs": [],
   "source": [
    "ppc_pl = compute_ppc(bayes_pl,\n",
    "                  bayes_pl.results,\n",
    "                  n_sims=500,\n",
    "                  file_name=\"ppc_pl.h5\",\n",
    "                  return_ppc=True, overwrite=True)"
   ]
  },
  {
   "cell_type": "code",
   "execution_count": null,
   "id": "78383639",
   "metadata": {
    "ExecuteTime": {
     "end_time": "2021-08-24T15:08:33.038616Z",
     "start_time": "2021-08-24T15:08:30.289176Z"
    }
   },
   "outputs": [],
   "source": [
    "ppc_pl.chandra.plot(bkg_subtract=True);"
   ]
  },
  {
   "cell_type": "code",
   "execution_count": null,
   "id": "b0a7f15d",
   "metadata": {
    "ExecuteTime": {
     "end_time": "2021-08-24T15:08:33.166479Z",
     "start_time": "2021-08-24T15:08:33.042824Z"
    }
   },
   "outputs": [],
   "source": [
    "ppc_pl.chandra.plot_qq(channel_energies=[1,2]);"
   ]
  },
  {
   "cell_type": "markdown",
   "id": "c1e40186",
   "metadata": {},
   "source": [
    "## Background modeling\n",
    "\n",
    "While profile likelihoods are a great tool when we have no good model for the background, if we can model the background, we should. It is possible to introduce models for the background in 3ML by extracting a plugin with the background spectrum only from a normal OGIPLike plugin. \n",
    "\n",
    "\n",
    "<img src=\"https://upload.wikimedia.org/wikipedia/commons/f/f1/Artist_impression_of_a_supermassive_black_hole_at_the_centre_of_a_galaxy.jpg\" alt=\"drawing\" width=\"400\" align=\"center\"/>\n",
    "\n",
    "This time we look at some simulated data where we are trying to find a spectral line on top of a continuum. The source is a blackhole accreation disk. First, let's load the data and have a look\n",
    "\n",
    "\n"
   ]
  },
  {
   "cell_type": "code",
   "execution_count": null,
   "id": "bf12f415",
   "metadata": {
    "ExecuteTime": {
     "end_time": "2021-08-24T15:08:33.573805Z",
     "start_time": "2021-08-24T15:08:33.168574Z"
    }
   },
   "outputs": [],
   "source": [
    "chandra = OGIPLike(name=\"chandra\", \n",
    "                   observation=\"c_data/obs_bkg_demo.pha\", \n",
    "                   background=\"c_data/obs_bkg_demo_bak.pha\",\n",
    "                   response=\"c_data/acis.rmf\",\n",
    "                   arf_file=\"c_data/acis.arf\",\n",
    "                   spectrum_number=1 )\n",
    "\n",
    "\n",
    "chandra.set_active_measurements(\"1-10\")\n",
    "\n",
    "chandra.rebin_on_background(1)\n",
    "\n",
    "fig = chandra.view_count_spectrum(scale_background=True);\n",
    "\n",
    "ax =fig.get_axes()[0]\n",
    "\n",
    "ax.set_xlim(1,10)\n",
    "ax.set_xscale('linear')\n",
    "\n",
    "\n",
    "\n"
   ]
  },
  {
   "cell_type": "markdown",
   "id": "d54f31dc",
   "metadata": {},
   "source": [
    "Now let's build our model and fit."
   ]
  },
  {
   "cell_type": "code",
   "execution_count": null,
   "id": "0c8ebdfe",
   "metadata": {
    "ExecuteTime": {
     "end_time": "2021-08-24T15:08:33.586982Z",
     "start_time": "2021-08-24T15:08:33.576266Z"
    }
   },
   "outputs": [],
   "source": [
    "cpl = Powerlaw(piv=5) + Gaussian()\n",
    "\n",
    "#priors\n",
    "cpl.K_1.prior = Log_uniform_prior(lower_bound = 1e-4, upper_bound = 1)\n",
    "#cpl.xc_1.prior = Truncated_gaussian(mu= 5, sigma=3, lower_bound=1, upper_bound=12)\n",
    "cpl.index_1.prior = Truncated_gaussian(mu= -2, sigma=1, lower_bound=-np.inf, upper_bound=0)\n",
    "\n",
    "cpl.F_2.prior = Log_uniform_prior(lower_bound = 1e-3, upper_bound = 1)\n",
    "cpl.mu_2.prior = Truncated_gaussian(mu= 6.4, sigma=2, lower_bound=1, upper_bound=10)\n",
    "cpl.sigma_2.prior = Log_uniform_prior(lower_bound = 1e-3, upper_bound = 1)\n",
    "# source\n",
    "ps_blackhole = PointSource(\"blackhole\", 0, 0, spectral_shape=cpl)\n",
    "\n",
    "# model\n",
    "model_blackhole = Model(ps_blackhole)\n",
    "\n",
    "\n",
    "\n"
   ]
  },
  {
   "cell_type": "code",
   "execution_count": null,
   "id": "b16e59f9",
   "metadata": {
    "ExecuteTime": {
     "end_time": "2021-08-24T15:08:33.596228Z",
     "start_time": "2021-08-24T15:08:33.589168Z"
    }
   },
   "outputs": [],
   "source": [
    "bayes = BayesianAnalysis(model_blackhole, DataList(chandra))\n",
    "\n",
    "# let's use ultranest this time\n",
    "bayes.set_sampler(\"multinest\")\n",
    "\n",
    "bayes.sampler.setup(n_live_points=500,verbose=True                       )"
   ]
  },
  {
   "cell_type": "code",
   "execution_count": null,
   "id": "fe7e9ec3",
   "metadata": {
    "ExecuteTime": {
     "end_time": "2021-08-24T15:08:47.866090Z",
     "start_time": "2021-08-24T15:08:33.598129Z"
    }
   },
   "outputs": [],
   "source": [
    "_ = bayes.sample()"
   ]
  },
  {
   "cell_type": "code",
   "execution_count": null,
   "id": "80fa967a",
   "metadata": {
    "ExecuteTime": {
     "end_time": "2021-08-24T15:08:48.250624Z",
     "start_time": "2021-08-24T15:08:47.868015Z"
    }
   },
   "outputs": [],
   "source": [
    "fig = chandra.display_model(step=False, min_rate=5,\n",
    "                               data_color=\"#C39BD3\", model_color=\"#76D7C4\",\n",
    "                               \n",
    "                               )\n",
    "\n",
    "ax = fig.get_axes()[0]\n",
    "\n",
    "ax.set_xlim(1,10)\n",
    "\n",
    "ax.set_xscale('linear')\n",
    "\n"
   ]
  },
  {
   "cell_type": "code",
   "execution_count": null,
   "id": "a7945f4e",
   "metadata": {
    "ExecuteTime": {
     "end_time": "2021-08-24T15:08:48.337589Z",
     "start_time": "2021-08-24T15:08:48.252601Z"
    }
   },
   "outputs": [],
   "source": [
    "chandra.remove_rebinning()\n",
    "\n",
    "bkg_plugin = SpectrumLike.from_background(\"bkg\", chandra)\n",
    "\n",
    "bkg_plugin.view_count_spectrum();\n"
   ]
  },
  {
   "cell_type": "code",
   "execution_count": null,
   "id": "3c6411a9",
   "metadata": {
    "ExecuteTime": {
     "end_time": "2021-08-24T15:08:48.366131Z",
     "start_time": "2021-08-24T15:08:48.339506Z"
    }
   },
   "outputs": [],
   "source": [
    "bkg_spectrum = Powerlaw(K=1.e0,index=-1.2, piv=5) + Gaussian(F=1e0, mu=1, sigma=.2) \n",
    "\n",
    "bkg_spectrum.K_1.prior = Log_uniform_prior(lower_bound=1e-2, upper_bound=1e2)\n",
    "bkg_spectrum.index_1.prior = Truncated_gaussian(mu = -1.2, sigma=0.5, lower_bound=-np.inf, upper_bound=0)\n",
    "\n",
    "bkg_spectrum.F_2.prior = Log_uniform_prior(lower_bound=1e-2, upper_bound=1e2)\n",
    "bkg_spectrum.mu_2.prior = Truncated_gaussian(mu = 3, sigma=1, lower_bound=0, upper_bound=10)\n",
    "bkg_spectrum.sigma_2.fix = True\n",
    "\n",
    "\n",
    "bkg_src = PointSource(\"bkg\", 0,0, spectral_shape=bkg_spectrum)\n",
    "\n",
    "bkg_model = Model(bkg_src)\n",
    "\n",
    "\n",
    "bkg_plugin.set_model(bkg_model)\n",
    "\n"
   ]
  },
  {
   "cell_type": "code",
   "execution_count": null,
   "id": "d0f0e530",
   "metadata": {
    "ExecuteTime": {
     "end_time": "2021-08-24T15:08:48.626799Z",
     "start_time": "2021-08-24T15:08:48.368214Z"
    }
   },
   "outputs": [],
   "source": [
    "chandra_bkg = OGIPLike(\"chandra\",\n",
    "                       observation = \"c_data/obs_bkg_demo.pha\",\n",
    "                       response = \"c_data/acis.rmf\", \n",
    "                       arf_file = \"c_data/acis.arf\" ,\n",
    "                       background = bkg_plugin,\n",
    "                       spectrum_number=1\n",
    "                        \n",
    "                      \n",
    "                      )\n",
    "\n",
    "\n",
    "chandra_bkg.set_active_measurements(\"1-10\")\n",
    "\n"
   ]
  },
  {
   "cell_type": "code",
   "execution_count": null,
   "id": "07405f70",
   "metadata": {
    "ExecuteTime": {
     "end_time": "2021-08-24T15:08:48.779227Z",
     "start_time": "2021-08-24T15:08:48.629648Z"
    }
   },
   "outputs": [],
   "source": [
    "fig = chandra_bkg.view_count_spectrum();\n",
    "\n",
    "ax =fig.get_axes()[0]\n",
    "\n",
    "ax.set_xlim(1,10)\n",
    "ax.set_xscale('linear')"
   ]
  },
  {
   "cell_type": "code",
   "execution_count": null,
   "id": "53269ae5",
   "metadata": {
    "ExecuteTime": {
     "end_time": "2021-08-24T15:08:48.790428Z",
     "start_time": "2021-08-24T15:08:48.781631Z"
    }
   },
   "outputs": [],
   "source": [
    "chandra_bkg.nuisance_parameters"
   ]
  },
  {
   "cell_type": "code",
   "execution_count": null,
   "id": "723630c8",
   "metadata": {},
   "outputs": [],
   "source": []
  },
  {
   "cell_type": "code",
   "execution_count": null,
   "id": "306089bf",
   "metadata": {
    "ExecuteTime": {
     "end_time": "2021-08-24T15:08:48.808120Z",
     "start_time": "2021-08-24T15:08:48.792960Z"
    }
   },
   "outputs": [],
   "source": [
    "\n",
    "\n",
    "new_model = clone_model(model_blackhole)\n",
    "\n",
    "\n",
    "bayes_bkg = BayesianAnalysis(new_model, DataList(chandra_bkg))\n",
    "\n",
    "\n",
    "bayes_bkg.set_sampler(\"multinest\")\n",
    "\n",
    "bayes_bkg.sampler.setup(n_live_points=500,verbose=True )"
   ]
  },
  {
   "cell_type": "code",
   "execution_count": null,
   "id": "a14a5bd9",
   "metadata": {
    "ExecuteTime": {
     "end_time": "2021-08-24T15:09:48.196681Z",
     "start_time": "2021-08-24T15:08:48.810498Z"
    }
   },
   "outputs": [],
   "source": [
    "_ = bayes_bkg.sample()"
   ]
  },
  {
   "cell_type": "code",
   "execution_count": null,
   "id": "7b1b3c3d",
   "metadata": {
    "ExecuteTime": {
     "end_time": "2021-08-24T15:09:48.205226Z",
     "start_time": "2021-08-24T15:09:48.198764Z"
    }
   },
   "outputs": [],
   "source": [
    "threeML_config.bayesian.corner_style.cmap = \"magma\"\n",
    "threeML_config.bayesian.corner_style.extremes=\"none\""
   ]
  },
  {
   "cell_type": "code",
   "execution_count": null,
   "id": "8622811d",
   "metadata": {
    "ExecuteTime": {
     "end_time": "2021-08-24T15:09:50.769387Z",
     "start_time": "2021-08-24T15:09:48.207790Z"
    }
   },
   "outputs": [],
   "source": [
    "bayes_bkg.results.corner_plot(color=\"#F6FF74\");"
   ]
  },
  {
   "cell_type": "code",
   "execution_count": null,
   "id": "94b51363",
   "metadata": {
    "ExecuteTime": {
     "end_time": "2021-08-24T15:09:51.466736Z",
     "start_time": "2021-08-24T15:09:50.771936Z"
    }
   },
   "outputs": [],
   "source": [
    "# over plot the joint background and source fits\n",
    "fig = chandra_bkg.display_model(step=False, min_rate=1,\n",
    "                               data_color=\"#C39BD3\", model_color=\"#76D7C4\",\n",
    "                               \n",
    "                               )\n",
    "\n",
    "_ = bkg_plugin.display_model(\n",
    "    data_color=\"#85C1E9\", model_color=\"#F7DC6F\",\n",
    "    model_subplot=fig.axes,\n",
    "    step=False,\n",
    "    min_rate=1\n",
    ")\n",
    "\n",
    "ax = fig.get_axes()[0]\n",
    "\n",
    "ax.set_xlim(1,10)\n",
    "\n",
    "ax.set_xscale('linear')\n",
    "\n"
   ]
  },
  {
   "cell_type": "markdown",
   "id": "4b04d768",
   "metadata": {},
   "source": [
    "The OGIP plugin (or any plugin) is not just for fitting, it can be used as a generic interface between models and isntruments for building pipelines. \n",
    "* Plugins and models are serializable meaning they can be farmed out to multi-processing\n",
    "* Most plugins can simulate data from their likelihoods (complex instruments still need some work here)\n",
    "\n",
    "Let's try this out:"
   ]
  },
  {
   "cell_type": "code",
   "execution_count": null,
   "id": "b21aed7c",
   "metadata": {},
   "outputs": [],
   "source": []
  }
 ],
 "metadata": {
  "kernelspec": {
   "display_name": "Python 3",
   "language": "python",
   "name": "python3"
  },
  "language_info": {
   "codemirror_mode": {
    "name": "ipython",
    "version": 3
   },
   "file_extension": ".py",
   "mimetype": "text/x-python",
   "name": "python",
   "nbconvert_exporter": "python",
   "pygments_lexer": "ipython3",
   "version": "3.9.5"
  }
 },
 "nbformat": 4,
 "nbformat_minor": 5
}
